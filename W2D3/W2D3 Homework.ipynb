{
 "cells": [
  {
   "cell_type": "markdown",
   "id": "fcfa766e",
   "metadata": {},
   "source": [
    "### 1) Build a Shopping Cart <br>\n",
    "<p><b>You can use either lists or dictionaries. The program should have the following capabilities:</b><br><br>\n",
    "1) Takes in input <br>\n",
    "2) Stores user input into a dictionary or list <br>\n",
    "3) The User can add or delete items <br>\n",
    "4) The User can see current shopping list <br>\n",
    "5) The program Loops until user 'quits' <br>\n",
    "6) Upon quiting the program, print out all items in the user's list <br>\n",
    "</p>"
   ]
  },
  {
   "cell_type": "code",
   "execution_count": null,
   "id": "4cb0a1f6",
   "metadata": {},
   "outputs": [],
   "source": [
    "#clear the cart\n",
    "#add / remove items, specific\n",
    "\n",
    "# Ask the user four bits of input: Do you want to : Show/Add/Delete/clear or Quit?"
   ]
  },
  {
   "cell_type": "code",
   "execution_count": null,
   "id": "6f24d077",
   "metadata": {},
   "outputs": [],
   "source": [
    "def shopping_list():\n",
    "    groceries={}\n",
    "    while True:\n",
    "        shopping= input(\"Do you want to : Show/Add/Delete/Clear or Quit?\")\n",
    "        if shopping.lower() == 'add':\n",
    "            add =input('What would you like to add?')\n",
    "            if add not in groceries:\n",
    "                quantity = int(input('How many would you like?'))\n",
    "                groceries[add]=quantity\n",
    "            else:\n",
    "                more =int(input('how many more?'))\n",
    "                n = groceries[add] + more\n",
    "                groceries.update({add:n})\n",
    "        elif shopping.lower() == 'show':\n",
    "            print(f'Here are your items:{groceries}')\n",
    "        elif shopping.lower() == 'delete':\n",
    "            delete=(input('Which item(s) would you like to delete?'))\n",
    "            if delete in groceries:\n",
    "                remove = int(input('How many would you like to remove?'))\n",
    "                s= groceries[delete] - remove\n",
    "                groceries[delete]= s\n",
    "                print(f'You removed {remove} {delete} from your cart.')\n",
    "        elif shopping.lower() =='clear':\n",
    "            groceries={}\n",
    "            print('Your cart is now empty')\n",
    "        elif shopping.lower() == 'quit':\n",
    "            print('Thank you for shopping at Learn Python')\n",
    "    return groceries\n",
    "shopping_list() "
   ]
  },
  {
   "cell_type": "markdown",
   "id": "71927c92",
   "metadata": {},
   "source": [
    "### 2) Create a Module in VS Code and Import It into jupyter notebook <br>\n",
    "<p><b>Module should have the following capabilities:</b><br><br>\n",
    "1) Has a function to calculate the square footage of a house <br>\n",
    "    <b>Reminder of Formula: Length X Width == Area<br>\n",
    "        <hr>\n",
    "2) Has a function to calculate the circumference of a circle <br><br>\n",
    "<b>Program in Jupyter Notebook should take in user input and use imported functions to calculate a circle's circumference or a houses square footage</b>\n",
    "</p>"
   ]
  },
  {
   "cell_type": "markdown",
   "id": "83beec93",
   "metadata": {},
   "source": [
    "# 2 - 1."
   ]
  },
  {
   "cell_type": "code",
   "execution_count": 3,
   "id": "0e6dbee8",
   "metadata": {},
   "outputs": [
    {
     "data": {
      "text/plain": [
       "240"
      ]
     },
     "execution_count": 3,
     "metadata": {},
     "output_type": "execute_result"
    }
   ],
   "source": [
    "from math_modules import square_footage\n",
    "\n",
    "square_footage(12,20)"
   ]
  },
  {
   "cell_type": "markdown",
   "id": "f41de18a",
   "metadata": {},
   "source": [
    "# 2 - 2."
   ]
  },
  {
   "cell_type": "code",
   "execution_count": 3,
   "id": "dab69ee5",
   "metadata": {},
   "outputs": [
    {
     "name": "stdout",
     "output_type": "stream",
     "text": [
      "Radius =50\n"
     ]
    },
    {
     "data": {
      "text/plain": [
       "314.1592653589793"
      ]
     },
     "execution_count": 3,
     "metadata": {},
     "output_type": "execute_result"
    }
   ],
   "source": [
    "from math_modules import circumference\n",
    "\n",
    "radius=int(input('Radius ='))\n",
    "\n",
    "circumference(radius)"
   ]
  },
  {
   "cell_type": "code",
   "execution_count": 1,
   "id": "8265c958",
   "metadata": {},
   "outputs": [],
   "source": []
  },
  {
   "cell_type": "code",
   "execution_count": null,
   "id": "8cc7435c",
   "metadata": {},
   "outputs": [],
   "source": []
  }
 ],
 "metadata": {
  "kernelspec": {
   "display_name": "Python 3 (ipykernel)",
   "language": "python",
   "name": "python3"
  },
  "language_info": {
   "codemirror_mode": {
    "name": "ipython",
    "version": 3
   },
   "file_extension": ".py",
   "mimetype": "text/x-python",
   "name": "python",
   "nbconvert_exporter": "python",
   "pygments_lexer": "ipython3",
   "version": "3.9.7"
  }
 },
 "nbformat": 4,
 "nbformat_minor": 5
}
